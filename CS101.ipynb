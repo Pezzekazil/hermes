{
 "cells": [
  {
   "cell_type": "markdown",
   "metadata": {},
   "source": [
    "# syllabus\n",
    "1. arrays\n",
    "2. linked list\n",
    "3. stacks\n",
    "4. queues\n",
    "5. hash maps\n",
    "6. binary trees and graphs\n",
    "7. searching\n",
    "8. sorting\n",
    "9. recursion \n",
    "10. parity"
   ]
  },
  {
   "cell_type": "markdown",
   "metadata": {},
   "source": [
    "## [Arrays](https://en.wikipedia.org/wiki/Array_data_structure)\n",
    "In computer science, an array data structure, or simply an array, is a data structure consisting of a collection of elements (values or variables), each identified by at least one array index or key. An array is stored such that the position of each element can be computed from its index tuple by a mathematical formula.The simplest type of data structure is a linear array, also called one-dimensional array.\n",
    "\n",
    "For example, an array of 10 32-bit integer variables, with indices 0 through 9, may be stored as 10 words at memory addresses 2000, 2004, 2008, ... 2036, so that the element with index i has the address 2000 + 4 × i.\n",
    "\n",
    "The cool part here is that knowing the memory address of the starting element, it is possible to immediately calculate the address of the desired $i^{th}$ element.\n",
    "\n",
    "In the given example the array can contain 10 elements of any value available to the int type. In C, the array element indices are 0-9 inclusive in this case. For example, the expressions anArrayName[0] and anArrayName[9] are the first and last elements respectively.\n",
    "\n",
    "For a vector with linear addressing, the element with index i is located at the address B + c × i, where B is a fixed base address and c a fixed constant, sometimes called the **address increment or stride**.\n",
    "\n",
    "If the valid element indices begin at 0, the constant B is simply the address of the first element of the array. For this reason, the C programming language specifies that array indices always begin at 0; and many programmers will call that element \"zeroth\" rather than \"first\".\n",
    "\n",
    "For a multidimensional array, the element with indices i,j would have address B + c · i + d · j, where the coefficients c and d are the row and column address increments, respectively.  \n",
    "\n",
    "**Advantage**  \n",
    "Retrieval of the ith element requires only an elementary mathematical calculation, hence it is very efficient  \n",
    "\n",
    "**Disadvantages**  \n",
    "If an element takes less than the stride to be stored, this will not reflect in the memory allocation for the array: the array size is specified upfront, and the memory allocated needs to be contingent"
   ]
  },
  {
   "cell_type": "code",
   "execution_count": 20,
   "metadata": {},
   "outputs": [],
   "source": [
    "a = [1,2,156]"
   ]
  },
  {
   "cell_type": "code",
   "execution_count": 21,
   "metadata": {},
   "outputs": [
    {
     "data": {
      "text/plain": [
       "(11054112, 11054144, 11059072)"
      ]
     },
     "execution_count": 21,
     "metadata": {},
     "output_type": "execute_result"
    }
   ],
   "source": [
    "id(a[0]), id(a[1]), id(a[2])"
   ]
  },
  {
   "cell_type": "code",
   "execution_count": 22,
   "metadata": {},
   "outputs": [
    {
     "data": {
      "text/plain": [
       "11059072"
      ]
     },
     "execution_count": 22,
     "metadata": {},
     "output_type": "execute_result"
    }
   ],
   "source": [
    "id(156)"
   ]
  },
  {
   "cell_type": "markdown",
   "metadata": {},
   "source": [
    "Python here is a bad example: indeed, the ids are unique through the lifetime of the object, but they do not necessarily reference a memory cell.  \n",
    "\n",
    "It looks as if all the integers were constant hard coded to fixed addresses.\n",
    "\n",
    "C would do that."
   ]
  },
  {
   "cell_type": "markdown",
   "metadata": {},
   "source": [
    "## [Linked lists](https://medium.com/@kojinoshiba/data-structures-in-python-series-1-linked-lists-d9f848537b4d)\n",
    "\n",
    "![broken image](https://cdn-images-1.medium.com/max/1600/1*rEC8Te27eo5TSYCHMA7Ttw.png)\n",
    "\n",
    "A linked list consists of a set of nodes. Each node has a value and a pointer to another node.  \n",
    "The starting node of a linked list is referred to as a header.  \n",
    "\n",
    "Linked list is often compared to arrays. Whereas an array is a fixed size of sequence, a linked list can have its elements to be dynamically allocated. \n",
    "\n",
    "**Advantages**\n",
    "\n",
    "A linked list saves memory. It only allocates the memory required for values to be stored. In arrays, you have to set an array size before filling it with values, which can potentially waste memory.\n",
    "\n",
    "Linked list nodes can live anywhere in the memory. Whereas an array requires a sequence of memory to be initiated, as long as the references are updated, each linked list node can be flexibly moved to a different address.\n",
    "\n",
    "**Disadvantages**\n",
    "\n",
    "Linear look up time. When looking for a value in a linked list, you have to start from the beginning of chain, and check one element at a time for a value you’re looking for. If the linked list is n elements long, this can take up to n time. On the contrary many languages allow constant lookups in arrays."
   ]
  },
  {
   "cell_type": "code",
   "execution_count": 33,
   "metadata": {},
   "outputs": [],
   "source": [
    "class Node:\n",
    "    def __init__(self,val):\n",
    "        self.val = val\n",
    "        self.next = None # the pointer initially points to nothing\n",
    "        \n",
    "    def traverse(self):\n",
    "        node = self # start from the head node\n",
    "        while node != None:\n",
    "            print(node.val) # access the node value\n",
    "            node = node.next # move on to the next node"
   ]
  },
  {
   "cell_type": "code",
   "execution_count": 34,
   "metadata": {},
   "outputs": [],
   "source": [
    "node1 = Node(12) \n",
    "node2 = Node(99) \n",
    "node3 = Node(37) \n",
    "node1.next = node2 # 12->99\n",
    "node2.next = node3 # 99->37"
   ]
  },
  {
   "cell_type": "code",
   "execution_count": 35,
   "metadata": {},
   "outputs": [
    {
     "data": {
      "text/plain": [
       "(<__main__.Node at 0x7f9bd8175860>,\n",
       " {'val': 12, 'next': <__main__.Node at 0x7f9bd81758d0>})"
      ]
     },
     "execution_count": 35,
     "metadata": {},
     "output_type": "execute_result"
    }
   ],
   "source": [
    "node1, node1.__dict__"
   ]
  },
  {
   "cell_type": "code",
   "execution_count": 36,
   "metadata": {},
   "outputs": [
    {
     "data": {
      "text/plain": [
       "(<__main__.Node at 0x7f9bd81758d0>,\n",
       " {'val': 99, 'next': <__main__.Node at 0x7f9bd8175630>})"
      ]
     },
     "execution_count": 36,
     "metadata": {},
     "output_type": "execute_result"
    }
   ],
   "source": [
    "node2, node2.__dict__"
   ]
  },
  {
   "cell_type": "markdown",
   "metadata": {},
   "source": [
    "## [Stacks 'n' queues](https://medium.com/@kojinoshiba/data-structures-in-python-series-2-stacks-queues-8e2a1703d67b)  \n",
    "![broken image](https://cdn-images-1.medium.com/max/800/1*4Pn00ch_p4DTCb4r3naCDQ.png)\n",
    "\n",
    "A stack is a data structure with two main operations: push and pop.\n",
    "\n",
    "**Push**: append an element on top of the stack\n",
    "\n",
    "**Pop**: remove an element from the top of the stack\n",
    "\n",
    "Think of a tray holder in a dining hall as a real world example of what a stack is. You can take out one tray from the top of the holder, and you can put a different one on top of the holder. The interesting fact with a stack is that you can only operate on the data on top of it.\n",
    "\n",
    "For this reason, stacks are referred to as a **LIFO** data structure."
   ]
  },
  {
   "cell_type": "code",
   "execution_count": 37,
   "metadata": {},
   "outputs": [],
   "source": [
    "class Stack:\n",
    "    def __init__(self):\n",
    "        self.stack = []\n",
    "    def pop(self):\n",
    "        if self.is_empty():\n",
    "            return None\n",
    "        else:\n",
    "            return self.stack.pop()\n",
    "    def push(self,val):\n",
    "        return self.stack.append(val)\n",
    "    def peak(self):\n",
    "        if self.is_empty():\n",
    "            return None\n",
    "        else:\n",
    "            return self.stack[-1]\n",
    "    def size(self):\n",
    "        return len(self.stack)\n",
    "    def is_empty(self):\n",
    "        return self.size() == 0"
   ]
  },
  {
   "cell_type": "markdown",
   "metadata": {},
   "source": [
    "**Queues**  \n",
    "\n",
    "![Broken image](https://cdn-images-1.medium.com/max/800/1*FwL7mJ4qpQWZnommC5tsFQ.png)\n",
    "\n",
    "A queue is a data structure with two main operations: enqueue and dequeue.\n",
    "\n",
    "**enqueue**: append an element to the tail of the queue\n",
    "\n",
    "**dequeue**: remove an element from the head of the queue\n",
    "\n",
    "Queues should be easier to understand, since queues in computer science are just like queues in real life. Think of a long line in front of a busy restaurant. Each person will be “enqueued” to the line and once they reach the head of the line, they are “dequeued” and enters the restaurant.\n",
    "\n",
    "Whereas stacks are to as LIFO or FILO, queues are referred to as a FIFO"
   ]
  },
  {
   "cell_type": "code",
   "execution_count": null,
   "metadata": {},
   "outputs": [],
   "source": [
    "class Queue:\n",
    "    def __init__(self):\n",
    "        self.queue = []\n",
    "    def enqueue(self,val):\n",
    "        self.queue.insert(0,val)\n",
    "    def dequeue(self):\n",
    "        if self.is_empty():\n",
    "            return None\n",
    "        else:\n",
    "            return self.queue.pop()\n",
    "    def size(self):\n",
    "        return len(self.queue)\n",
    "    def is_empty(self):\n",
    "        return self.size() == 0"
   ]
  },
  {
   "attachments": {},
   "cell_type": "markdown",
   "metadata": {},
   "source": [
    "## [Hash maps](https://en.wikipedia.org/wiki/Hash_table)\n",
    "\n",
    "In computing, a hash table (hash map) is a data structure that implements an associative array abstract data type, a structure that can map keys to values. A hash table uses a hash function to compute an index into an array of buckets or slots, from which the desired value can be found.\n",
    "\n",
    "Ideally, the hash function will assign each key to a unique bucket, but most hash table designs employ an imperfect hash function, which might cause hash collisions where the hash function generates the same index for more than one key. Such collisions must be accommodated in some way.\n",
    "\n",
    "In a well-dimensioned hash table, the average cost (number of instructions) for each lookup is independent of the number of elements stored in the table. Many hash table designs also allow arbitrary insertions and deletions of key-value pairs, at (amortized) constant average cost per operation.\n",
    "\n",
    "A good place to start for python explanation is [this](https://dbader.org/blog/python-dictionaries-maps-and-hashtables)\n",
    "\n",
    "Whatch this video for a theoretical intro.\n",
    "\n",
    "<a href=\"http://www.youtube.com/watch?feature=player_embedded&v=shs0KM3wKv8\n",
    "\" target=\"_blank\"><img src=\"http://img.youtube.com/vi/shs0KM3wKv8/0.jpg\" \n",
    "alt=\"IMAGE ALT TEXT HERE\" width=\"240\" height=\"180\" border=\"10\" /></a>\n",
    "\n",
    "Summarising, the process is as follows:  \n",
    "1. Hash the value  \n",
    "2. Index = Hash_value % [number of items I want to store]  \n",
    "3. Store item into array[index]  \n",
    "4. If index is already used, then create linked list on the first item.  \n",
    "\n",
    "![broken image](https://upload.wikimedia.org/wikipedia/commons/thumb/d/d0/Hash_table_5_0_1_1_1_1_1_LL.svg/450px-Hash_table_5_0_1_1_1_1_1_LL.svg.png)"
   ]
  },
  {
   "cell_type": "code",
   "execution_count": null,
   "metadata": {},
   "outputs": [],
   "source": []
  }
 ],
 "metadata": {
  "kernelspec": {
   "display_name": "Python 3",
   "language": "python",
   "name": "python3"
  },
  "language_info": {
   "codemirror_mode": {
    "name": "ipython",
    "version": 3
   },
   "file_extension": ".py",
   "mimetype": "text/x-python",
   "name": "python",
   "nbconvert_exporter": "python",
   "pygments_lexer": "ipython3",
   "version": "3.6.5"
  }
 },
 "nbformat": 4,
 "nbformat_minor": 2
}
